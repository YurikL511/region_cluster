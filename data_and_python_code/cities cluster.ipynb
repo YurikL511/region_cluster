{
 "cells": [
  {
   "cell_type": "code",
   "execution_count": 2,
   "metadata": {},
   "outputs": [],
   "source": [
    "import pandas as pd\n",
    "import numpy as np"
   ]
  },
  {
   "cell_type": "code",
   "execution_count": 3,
   "metadata": {},
   "outputs": [],
   "source": [
    "df=pd.read_excel('test.xlsx')"
   ]
  },
  {
   "cell_type": "code",
   "execution_count": 4,
   "metadata": {},
   "outputs": [
    {
     "data": {
      "text/html": [
       "<div>\n",
       "<style scoped>\n",
       "    .dataframe tbody tr th:only-of-type {\n",
       "        vertical-align: middle;\n",
       "    }\n",
       "\n",
       "    .dataframe tbody tr th {\n",
       "        vertical-align: top;\n",
       "    }\n",
       "\n",
       "    .dataframe thead th {\n",
       "        text-align: right;\n",
       "    }\n",
       "</style>\n",
       "<table border=\"1\" class=\"dataframe\">\n",
       "  <thead>\n",
       "    <tr style=\"text-align: right;\">\n",
       "      <th></th>\n",
       "      <th>city</th>\n",
       "      <th>index</th>\n",
       "      <th>day_1</th>\n",
       "      <th>day_2</th>\n",
       "      <th>day_3</th>\n",
       "      <th>day_4</th>\n",
       "      <th>day_5</th>\n",
       "      <th>day_6</th>\n",
       "      <th>day_7</th>\n",
       "      <th>day_8</th>\n",
       "      <th>...</th>\n",
       "      <th>day_19</th>\n",
       "      <th>day_20</th>\n",
       "      <th>day_21</th>\n",
       "      <th>day_22</th>\n",
       "      <th>day_23</th>\n",
       "      <th>day_24</th>\n",
       "      <th>day_25</th>\n",
       "      <th>day_26</th>\n",
       "      <th>day_27</th>\n",
       "      <th>day_28</th>\n",
       "    </tr>\n",
       "  </thead>\n",
       "  <tbody>\n",
       "    <tr>\n",
       "      <th>0</th>\n",
       "      <td>Anshan</td>\n",
       "      <td>aaus</td>\n",
       "      <td>0.738073</td>\n",
       "      <td>0.740425</td>\n",
       "      <td>0.745020</td>\n",
       "      <td>0.753030</td>\n",
       "      <td>0.761751</td>\n",
       "      <td>0.766009</td>\n",
       "      <td>0.769231</td>\n",
       "      <td>0.769288</td>\n",
       "      <td>...</td>\n",
       "      <td>0.766120</td>\n",
       "      <td>0.766539</td>\n",
       "      <td>0.771581</td>\n",
       "      <td>0.773552</td>\n",
       "      <td>0.772687</td>\n",
       "      <td>0.769593</td>\n",
       "      <td>0.765753</td>\n",
       "      <td>0.749268</td>\n",
       "      <td>0.731216</td>\n",
       "      <td>0.727607</td>\n",
       "    </tr>\n",
       "    <tr>\n",
       "      <th>1</th>\n",
       "      <td>Anshan</td>\n",
       "      <td>dau</td>\n",
       "      <td>23913.000000</td>\n",
       "      <td>24002.000000</td>\n",
       "      <td>24064.000000</td>\n",
       "      <td>23814.000000</td>\n",
       "      <td>23253.000000</td>\n",
       "      <td>23154.000000</td>\n",
       "      <td>22936.000000</td>\n",
       "      <td>22596.000000</td>\n",
       "      <td>...</td>\n",
       "      <td>22760.000000</td>\n",
       "      <td>23022.000000</td>\n",
       "      <td>22859.000000</td>\n",
       "      <td>22621.000000</td>\n",
       "      <td>22825.000000</td>\n",
       "      <td>23050.000000</td>\n",
       "      <td>23120.000000</td>\n",
       "      <td>23167.000000</td>\n",
       "      <td>23467.000000</td>\n",
       "      <td>23321.000000</td>\n",
       "    </tr>\n",
       "    <tr>\n",
       "      <th>2</th>\n",
       "      <td>Anshan</td>\n",
       "      <td>duration</td>\n",
       "      <td>9.571970</td>\n",
       "      <td>9.591320</td>\n",
       "      <td>10.235513</td>\n",
       "      <td>8.976777</td>\n",
       "      <td>8.882639</td>\n",
       "      <td>9.058727</td>\n",
       "      <td>10.211925</td>\n",
       "      <td>10.083590</td>\n",
       "      <td>...</td>\n",
       "      <td>10.098233</td>\n",
       "      <td>9.918273</td>\n",
       "      <td>10.253765</td>\n",
       "      <td>10.355694</td>\n",
       "      <td>10.056780</td>\n",
       "      <td>10.365736</td>\n",
       "      <td>9.994515</td>\n",
       "      <td>9.542174</td>\n",
       "      <td>9.614772</td>\n",
       "      <td>9.709030</td>\n",
       "    </tr>\n",
       "    <tr>\n",
       "      <th>3</th>\n",
       "      <td>Anshan</td>\n",
       "      <td>new_user</td>\n",
       "      <td>489.000000</td>\n",
       "      <td>480.000000</td>\n",
       "      <td>430.000000</td>\n",
       "      <td>410.000000</td>\n",
       "      <td>425.000000</td>\n",
       "      <td>437.000000</td>\n",
       "      <td>467.000000</td>\n",
       "      <td>460.000000</td>\n",
       "      <td>...</td>\n",
       "      <td>423.000000</td>\n",
       "      <td>442.000000</td>\n",
       "      <td>446.000000</td>\n",
       "      <td>416.000000</td>\n",
       "      <td>438.000000</td>\n",
       "      <td>468.000000</td>\n",
       "      <td>454.000000</td>\n",
       "      <td>375.000000</td>\n",
       "      <td>461.000000</td>\n",
       "      <td>516.000000</td>\n",
       "    </tr>\n",
       "    <tr>\n",
       "      <th>4</th>\n",
       "      <td>Anshan</td>\n",
       "      <td>retention</td>\n",
       "      <td>0.737340</td>\n",
       "      <td>0.739147</td>\n",
       "      <td>0.735705</td>\n",
       "      <td>0.725792</td>\n",
       "      <td>0.728422</td>\n",
       "      <td>0.732789</td>\n",
       "      <td>0.721486</td>\n",
       "      <td>0.742963</td>\n",
       "      <td>...</td>\n",
       "      <td>0.737698</td>\n",
       "      <td>0.743593</td>\n",
       "      <td>0.733190</td>\n",
       "      <td>0.744839</td>\n",
       "      <td>0.745542</td>\n",
       "      <td>0.741302</td>\n",
       "      <td>0.731488</td>\n",
       "      <td>0.736349</td>\n",
       "      <td>0.739933</td>\n",
       "      <td>0.726298</td>\n",
       "    </tr>\n",
       "  </tbody>\n",
       "</table>\n",
       "<p>5 rows × 30 columns</p>\n",
       "</div>"
      ],
      "text/plain": [
       "     city      index         day_1         day_2         day_3         day_4  \\\n",
       "0  Anshan       aaus      0.738073      0.740425      0.745020      0.753030   \n",
       "1  Anshan        dau  23913.000000  24002.000000  24064.000000  23814.000000   \n",
       "2  Anshan   duration      9.571970      9.591320     10.235513      8.976777   \n",
       "3  Anshan   new_user    489.000000    480.000000    430.000000    410.000000   \n",
       "4  Anshan  retention      0.737340      0.739147      0.735705      0.725792   \n",
       "\n",
       "          day_5         day_6         day_7         day_8  ...        day_19  \\\n",
       "0      0.761751      0.766009      0.769231      0.769288  ...      0.766120   \n",
       "1  23253.000000  23154.000000  22936.000000  22596.000000  ...  22760.000000   \n",
       "2      8.882639      9.058727     10.211925     10.083590  ...     10.098233   \n",
       "3    425.000000    437.000000    467.000000    460.000000  ...    423.000000   \n",
       "4      0.728422      0.732789      0.721486      0.742963  ...      0.737698   \n",
       "\n",
       "         day_20        day_21        day_22        day_23        day_24  \\\n",
       "0      0.766539      0.771581      0.773552      0.772687      0.769593   \n",
       "1  23022.000000  22859.000000  22621.000000  22825.000000  23050.000000   \n",
       "2      9.918273     10.253765     10.355694     10.056780     10.365736   \n",
       "3    442.000000    446.000000    416.000000    438.000000    468.000000   \n",
       "4      0.743593      0.733190      0.744839      0.745542      0.741302   \n",
       "\n",
       "         day_25        day_26        day_27        day_28  \n",
       "0      0.765753      0.749268      0.731216      0.727607  \n",
       "1  23120.000000  23167.000000  23467.000000  23321.000000  \n",
       "2      9.994515      9.542174      9.614772      9.709030  \n",
       "3    454.000000    375.000000    461.000000    516.000000  \n",
       "4      0.731488      0.736349      0.739933      0.726298  \n",
       "\n",
       "[5 rows x 30 columns]"
      ]
     },
     "execution_count": 4,
     "metadata": {},
     "output_type": "execute_result"
    }
   ],
   "source": [
    "df.head()"
   ]
  },
  {
   "cell_type": "code",
   "execution_count": 5,
   "metadata": {},
   "outputs": [
    {
     "name": "stdout",
     "output_type": "stream",
     "text": [
      "number of cities: 119\n"
     ]
    }
   ],
   "source": [
    "#number of cities\n",
    "print('number of cities: {}'.format(len(df.city.unique())))"
   ]
  },
  {
   "cell_type": "code",
   "execution_count": 6,
   "metadata": {},
   "outputs": [
    {
     "name": "stdout",
     "output_type": "stream",
     "text": [
      "['Anshan' 'Anshun' 'Anyang' 'Baoding' 'Baotou' 'Beijing' 'Binzhou'\n",
      " 'Cangzhou' 'Changchun' 'Changsha' 'Changzhou' 'Chengdu' 'Chongqing'\n",
      " 'Dali' 'Dalian' 'Dazhou' 'Deyang' 'Dezhou' 'Dongguan' 'Foshan' 'Fuyang'\n",
      " 'Ganzhou' 'Guangzhou' 'Guilin' 'Guiyang' 'Haikou' 'Handan' 'Hangzhou'\n",
      " 'Harbin' 'Hefei' 'Hengyang' 'Heze' 'Honghe' 'Huaian' 'Huhehaote'\n",
      " 'Huizhou' 'Huzhou' 'Jiangmen' 'Jiaxing' 'Jieyang' 'Jilin' 'Jinan'\n",
      " 'Jinhua' 'Jining' 'Jinzhong' 'Kaifeng' 'Kunming' 'Langfang' 'Lanzhou'\n",
      " 'Lianyungang' 'Liaocheng' 'Linyi' 'Liupanshui' 'Liuzhou' 'Luoyang'\n",
      " 'Luzhou' 'Maoming' 'Mianyang' 'Nanchang' 'Nanchong' 'Nanjing' 'Nanning'\n",
      " 'Nantong' 'Nanyang' 'Ningbo' 'Qiandongnan' 'Qiannan' 'Qianxinan'\n",
      " 'Qingdao' 'Qinhuangdao' 'Quanzhou' 'Qujing' 'Shanghai' 'Shangqiu'\n",
      " 'Shangrao' 'Shantou' 'Shaoxing' 'Shenyang' 'Shenzhen' 'Shijiazhuang'\n",
      " 'Suqian' 'Taian' 'Taiyuan' 'Tangshan' 'Tianjin' 'Weifang' 'Weihai'\n",
      " 'Wenshan' 'Wenzhou' 'Wuhan' 'Wulumuqi' 'Wuxi' 'Xiamen' \"Xi'an\" 'Xianyang'\n",
      " 'Xingtai' 'Xining' 'Xinxiang' 'Xuzhou' 'Yancheng' 'Yangzhou' 'Yantai'\n",
      " 'Yibin' 'Yili' 'Yinchuan' 'Zaozhuang' 'Zhangjiakou' 'Zhangzhou'\n",
      " 'Zhanjiang' 'Zhaoqing' 'Zhaotong' 'Zhengzhou' 'Zhenjiang' 'Zhongshan'\n",
      " 'Zhoukou' 'Zhuhai' 'Zhumadian' 'Zibo' 'Zunyi']\n",
      "['aaus' 'dau' 'duration' 'new_user' 'retention' 'revenue']\n"
     ]
    }
   ],
   "source": [
    "print(df.city.unique())\n",
    "print(df['index'].unique())"
   ]
  },
  {
   "cell_type": "code",
   "execution_count": 7,
   "metadata": {},
   "outputs": [
    {
     "data": {
      "text/plain": [
       "array([23913., 24002., 24064., 23814., 23253., 23154., 22936., 22596.,\n",
       "       23048., 23083., 22584., 22509., 23388., 23133., 22486., 22619.,\n",
       "       22753., 22466., 22760., 23022., 22859., 22621., 22825., 23050.,\n",
       "       23120., 23167., 23467., 23321.])"
      ]
     },
     "execution_count": 7,
     "metadata": {},
     "output_type": "execute_result"
    }
   ],
   "source": [
    "df[(df.city=='Anshan') & (df['index']=='dau')].drop(['city','index'],axis=1).values[0]"
   ]
  },
  {
   "cell_type": "code",
   "execution_count": 8,
   "metadata": {},
   "outputs": [],
   "source": [
    "#LB_Keogh distance\n",
    "def LB_Keogh(s1,s2,r):\n",
    "    LB_sum=0\n",
    "    for ind,i in enumerate(s1):\n",
    "        lb=min(s2[(ind-r if ind-r>=0 else 0):(ind+r)])\n",
    "        ub=max(s2[(ind-r if ind-r>-0 else 0):(ind+r)])\n",
    "        \n",
    "        if i>ub:\n",
    "            LB_sum=LB_sum+(i-ub)**2\n",
    "        elif i<lb:\n",
    "            LB_sum=LB_sum+(i-lb)**2\n",
    "            \n",
    "    return np.sqrt(LB_sum)"
   ]
  },
  {
   "cell_type": "code",
   "execution_count": 9,
   "metadata": {},
   "outputs": [],
   "source": [
    "anshan_dau=df[(df.city=='Anshan') & (df['index']=='dau')].drop(['city','index'],axis=1).values[0]\n",
    "anshun_dau=df[(df.city=='Anshun') & (df['index']=='dau')].drop(['city','index'],axis=1).values[0]\n",
    "anshan_aaus=df[(df.city=='Anshan') & (df['index']=='aaus')].drop(['city','index'],axis=1).values[0]\n",
    "anshun_aaus=df[(df.city=='Anshun') & (df['index']=='aaus')].drop(['city','index'],axis=1).values[0]"
   ]
  },
  {
   "cell_type": "code",
   "execution_count": 10,
   "metadata": {},
   "outputs": [
    {
     "name": "stdout",
     "output_type": "stream",
     "text": [
      "16475.385033437004\n",
      "16277.329234244788\n",
      "0.1583150600997666\n",
      "0.14899893798297606\n"
     ]
    }
   ],
   "source": [
    "#LB_Keogh test\n",
    "print(LB_Keogh(anshan_dau,anshun_dau,2))\n",
    "print(LB_Keogh(anshun_dau,anshan_dau,2))\n",
    "print(LB_Keogh(anshan_aaus,anshun_aaus,2))\n",
    "print(LB_Keogh(anshun_aaus,anshan_aaus,2))"
   ]
  },
  {
   "cell_type": "code",
   "execution_count": 11,
   "metadata": {},
   "outputs": [],
   "source": [
    "def DTWDistance(s1,s2,w):\n",
    "    DTW={}\n",
    "    \n",
    "    w = max(w, abs(len(s1)-len(s2)))\n",
    "    \n",
    "    for i in range(-1,len(s1)):\n",
    "        for j in range(-1,len(s2)):\n",
    "            DTW[(i,j)]=float('inf')\n",
    "    \n",
    "    DTW[(-1,-1)]=0\n",
    "    \n",
    "    for i in range(len(s1)):\n",
    "        for j in range(max(0,i-w),min(len(s2),i+w)):\n",
    "            dist=(s1[i]-s2[j])**2\n",
    "            DTW[(i,j)]=dist+min(DTW[(i-1,j)],DTW[(i,j-1)],DTW[(i-1,j-1)])\n",
    "    \n",
    "    return np.sqrt(DTW[len(s1)-1,len(s2)-1])"
   ]
  },
  {
   "cell_type": "code",
   "execution_count": 12,
   "metadata": {},
   "outputs": [
    {
     "name": "stdout",
     "output_type": "stream",
     "text": [
      "17567.11211326438\n",
      "17567.11211326438\n",
      "0.13023098297137553\n",
      "0.13023098297137553\n"
     ]
    }
   ],
   "source": [
    "#DTW test\n",
    "print(DTWDistance(anshan_dau,anshun_dau,28))\n",
    "print(DTWDistance(anshun_dau,anshan_dau,28))\n",
    "print(DTWDistance(anshan_aaus,anshun_aaus,28))\n",
    "print(DTWDistance(anshun_aaus,anshan_aaus,28))"
   ]
  },
  {
   "cell_type": "code",
   "execution_count": 13,
   "metadata": {},
   "outputs": [],
   "source": [
    "#function to generate city matrix\n",
    "fea_list=list(df['index'].unique())\n",
    "\n",
    "def city_m(city_name):\n",
    "    dfsub=df[df.city==city_name]\n",
    "    df_city={}\n",
    "    \n",
    "    \n",
    "    for i in fea_list:\n",
    "        df_city.update({i : dfsub[dfsub['index']==i].drop(['city','index'],axis=1).values[0]})\n",
    "    \n",
    "    return pd.DataFrame(df_city)"
   ]
  },
  {
   "cell_type": "code",
   "execution_count": 14,
   "metadata": {},
   "outputs": [],
   "source": [
    "#function to calculate the distance between two cities\n",
    "\n",
    "def Dis_city(city_1,city_2):\n",
    "    \n",
    "    Dis_list=[]\n",
    "    \n",
    "    for i in fea_list:\n",
    "        Dis_list.append(DTWDistance(city_1[i].values,city_2[i].values,28))\n",
    "    \n",
    "    return Dis_list  "
   ]
  },
  {
   "cell_type": "code",
   "execution_count": 15,
   "metadata": {},
   "outputs": [],
   "source": [
    "n_city=len(df.city.unique())\n",
    "city_list=list(df.city.unique())"
   ]
  },
  {
   "cell_type": "code",
   "execution_count": 16,
   "metadata": {},
   "outputs": [],
   "source": [
    "MDis=np.zeros(shape=(n_city,n_city,len(fea_list)))\n",
    "for i in range(n_city):\n",
    "    for j in range(n_city):\n",
    "        MDis[i,j,]=Dis_city(city_m(city_list[i]),city_m(city_list[j]))"
   ]
  },
  {
   "cell_type": "code",
   "execution_count": 17,
   "metadata": {},
   "outputs": [],
   "source": [
    "#normalized funtion (min>0)\n",
    "def _nor(matrix):\n",
    "    _min=np.min(matrix[np.nonzero(matrix)])\n",
    "    _max=np.max(matrix[np.nonzero(matrix)])\n",
    "    _range=_max-_min\n",
    "    return (matrix-_min)/_range"
   ]
  },
  {
   "cell_type": "code",
   "execution_count": 18,
   "metadata": {},
   "outputs": [],
   "source": [
    "#distance matrix\n",
    "Dis_M=np.zeros((n_city,n_city))\n",
    "for i in range(len(fea_list)):\n",
    "    Dis_M+=_nor(MDis[:,:,i])"
   ]
  },
  {
   "cell_type": "code",
   "execution_count": 19,
   "metadata": {},
   "outputs": [],
   "source": [
    "#normalized funtion (min=0)\n",
    "def _nor0(matrix):\n",
    "    _min=np.min(matrix)\n",
    "    _max=np.max(matrix)\n",
    "    _range=_max-_min\n",
    "    return (matrix-_min)/_range"
   ]
  },
  {
   "cell_type": "code",
   "execution_count": 20,
   "metadata": {},
   "outputs": [],
   "source": [
    "#distance matrix with min=0\n",
    "Dis_M0=np.zeros((n_city,n_city))\n",
    "for i in range(len(fea_list)):\n",
    "    Dis_M0+=_nor0(MDis[:,:,i])"
   ]
  },
  {
   "cell_type": "code",
   "execution_count": 21,
   "metadata": {},
   "outputs": [],
   "source": [
    "#udf k-means\n",
    "\n",
    "import random\n",
    "\n",
    "def k_mean_clust(DM, num_clust, num_iter, seed):\n",
    "    random.seed(seed)\n",
    "    centroids = random.sample(range(n_city), num_clust)\n",
    "    counter=0\n",
    "    for n in range(num_iter):\n",
    "        counter+=1\n",
    "        #print(counter)\n",
    "        assignments={}\n",
    "        #assign data points to clusters\n",
    "        for i in range(n_city):\n",
    "            min_dist=float('inf')\n",
    "            closest_clust=None\n",
    "            for j in range(num_clust):\n",
    "                if DM[i,centroids[j]]<min_dist:\n",
    "                    cur_dist=DM[i,centroids[j]]\n",
    "                    if cur_dist<min_dist:\n",
    "                        min_dist=cur_dist\n",
    "                        closest_clust=centroids[j]\n",
    "            if closest_clust in assignments:\n",
    "                assignments[closest_clust].append(i)\n",
    "            else:\n",
    "                assignments[closest_clust]=[]\n",
    "        \n",
    "        \n",
    "        #reset the centroids of clusters\n",
    "        for key in assignments:\n",
    "            min_total_dis=float('inf')\n",
    "            tem_key=key\n",
    "            for k in assignments[key]:\n",
    "                cur_total_dis=0\n",
    "                for l in assignments[key]:\n",
    "                    cur_total_dis+=DM[k,l]\n",
    "                if cur_total_dis<min_total_dis:\n",
    "                    min_total_dis=cur_total_dis\n",
    "                    tem_key=k\n",
    "            centroids[centroids.index(key)]=k\n",
    "    return centroids  \n",
    "                "
   ]
  },
  {
   "cell_type": "code",
   "execution_count": null,
   "metadata": {},
   "outputs": [],
   "source": []
  }
 ],
 "metadata": {
  "kernelspec": {
   "display_name": "Python 3",
   "language": "python",
   "name": "python3"
  },
  "language_info": {
   "codemirror_mode": {
    "name": "ipython",
    "version": 3
   },
   "file_extension": ".py",
   "mimetype": "text/x-python",
   "name": "python",
   "nbconvert_exporter": "python",
   "pygments_lexer": "ipython3",
   "version": "3.7.3"
  }
 },
 "nbformat": 4,
 "nbformat_minor": 2
}
